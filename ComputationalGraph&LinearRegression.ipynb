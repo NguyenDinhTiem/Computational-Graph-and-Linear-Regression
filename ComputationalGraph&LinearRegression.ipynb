{
 "cells": [
  {
   "cell_type": "markdown",
   "metadata": {
    "id": "X0FIqUru_CR4"
   },
   "source": [
    "## **INTRODUCTION**\n"
   ]
  },
  {
   "cell_type": "markdown",
   "metadata": {
    "id": "V_fhyGw3_GOp"
   },
   "source": [
    "# **1.Computational Graph**\n",
 
   ]
  },
  {
   "cell_type": "markdown",
   "metadata": {
    "id": "Tne-wDM8_K_q"
   },
   "source": [
    "Đồ thị tính toán(Computational Graph) là một cách hay khi nói về biểu thức tính toán.\n",
    "\n",
    "    Xét biểu thức e = (a + b) ∗ (b + 1)\n",
    "\n",
    "Ở đây có 3 toán tử: 2(+) và 1(*).  <br/>\n",
    "Ta sử dụng những biến trung gian để biểu diễn lại biểu thức c=a+b, d=b+1 \n",
    "\n",
    "                  e = c * d\n",
    "\n",
    "Tạo 1 đồ thị tính toán, theo các biến input(a,b) tới các node và giá trị một nút là đầu vào của nút khác. Đặt a = 2 và b = 1. Kết quả e = 6\n",
    "\n",
    "\n",
    "![](https://i.imgur.com/urjvbKk.png)\n",
    "\n",
    "\n",
    "---\n",
    "\n",
    "Ta thử đặt câu hỏi: \"Nếu a ảnh hưởng trực tiếp c, và a thay đổi thì liệu c có thay đổi và thay đổi như thế nào?\"\n",
    "\n",
    "Và chúng ta gọi đây là **đạo hàm riêng** của c với đối với a 😜 \n",
    "<br/>\n",
    "<br/>\n",
    "Ta quan sát hình sau:\n",
    "\n",
    "\n",
    "![](https://i.imgur.com/s42WyKE.png)\n",
    "\n",
    "Các bạn để ý nếu a thay đổi 1 đơn vị, với điều kiện b được giữ nguyên thì c thay đổi 1 đơn vị. Đây chính là hình ảnh của đạo hàm riêng 🙂 <br/>\n",
    "Đến lượt c thay đổi 1 đơn vị, với điều kiện d được giữ nguyên thì khiến e thay đổi 1*2 đơn vị. Đây lại là hình ảnh của đạo hàm riêng 🙂\n",
    "\n",
    "\n",
    "Đánh giá về đạo hàm riêng trong đồ thị, chúng ta cần tới quy tắc tổng và quy tắc nhân. Nghĩa là quy tắc tổng với tất cả các đường có thể từ 1 node nào đó, và quy tắc nhân với đạo hàm với mỗi đường dẫn vào nhau<br/>\n",
    "Ví dụ muốn đánh giá b ảnh hưởng như thế nào đối với e ta làm như sau: <br/>\n",
    "\n",
    "e có 2 ngã vào bị ảnh hưởng bởi b. Giờ xuất phát từ b ta nhân cho đến khi gần tới e, rồi sau đó tổng các hướng đã nhân.\n",
    "\n",
    "      ∂e/∂b = 1 * 2 + 1 * 3 = 5\n",
    "\n",
    "> Vậy b thay đổi 1 đơn vị thì e sẽ thay đổi xấp xỉ trên dưới 5 đơn vị. Đó chính là một phần ý nghĩa của đạo hàm riêng. Bạn hãy bỏ túi skill này nhé!!\n",
    "\n",
    "Đến đây chắc hẳn có nhiều bạn cũng chưa hiểu **Computational Graph nếu áp dụng vào network** như thế nào?\n",
    "Mục đích của ta là thay đổi hay tác động đến các trọng số W để làm cho L thay đổi và thay đổi về giá trị nhỏ nhất. Ở đây người ta dùng phương pháp Reverse-mode differentiation thay vì Forward-mode differentiation trong đạo hàm riêng. Hoặc nói một cái tên thân thương là: Backpropagation. \n",
    "\n",
    "Vì sao vậy? Đáp án ngay dưới đây 🙂\n",
    "\n",
    "**Forward-mode differentiation** từ b lên. Điều này cho chúng ta đạo hàm tại mỗi node với sự tác động của **b và chỉ b**\n",
    "\n",
    "![](https://i.imgur.com/3j2x8yy.png)\n",
    "\n",
    "\n",
    "**Reverse-mode differentiation** từ e xuống? Điều này cho chúng ta đạo hàm của e với sự tác động tới mỗi node với sự tác động của a và b. Ý tôi là nhận được cả ∂e/∂a và ∂e/∂b => Quá đã\n",
    "\n",
    "![](https://i.imgur.com/375b9Yj.png)\n",
    "\n",
    "\n",
    "Kết luận: \n",
    "\n",
    "> Reverse-mode differentiation thực hiện đạo hàm của e đối với các node và ta nhận được cả ∂e/∂a và ∂e/∂b<br/>\n",
    "Trong khi đó Forward-mode differentiation đã cho chúng ta đạo hàm của output với sự tác động của **chỉ 1 input**, nhưng reverse-mode differentiation cho chúng ta tất cả chúng.\n",
    "Ta thử tưởng tượng 1 hàm với 1 triệu input và 1 output. Forward-mode differentiation sẽ yêu cầu nó quẹo vòng qua đồ thị 1 triệu lần để nhận được các đạo hàm. Reverse-mode differentiation có thể nhận tất cả chúng chỉ với 1 lần. @@\n",
    "\n",
    "Computational Graph giúp có thể dễ dàng minh họa trực quan tính đạo hàm cho các biến và để hiểu sâu về neural network, hay xa hơn là các mô hình deep learning, thì việc hiểu rõ Computational Graph này mang lại rất nhiều hữu ích cho các bạn.\n",
    "\n",
    "Tham khảo: \n",
    "\n",
    "1.   https://aivietnam.ai/courses/aisummer2019/lessons/computational-graph/\n",
    "2.   https://colah.github.io/posts/2015-08-Backprop/\n",
    "\n",
    "\n",
    "\n"
   ]
  },
  {
   "cell_type": "markdown",
   "metadata": {
    "id": "7jzhXldTa4D5"
   },
   "source": [
    "# **2.LinearRegression**\n",
    "> Write by Quang Van"
   ]
  },
  {
   "cell_type": "markdown",
   "metadata": {
    "id": "jdfT2asGbQBg"
   },
   "source": [
    "### **3.BÀI TẬP**"
   ]
  },
  {
   "cell_type": "markdown",
   "metadata": {
    "id": "p2Z6CN7v9gN8"
   },
   "source": [
    "#### **Class LinearRegresstion**\n",
    "sử dụng cho các bài toán"
   ]
  },
  {
   "cell_type": "code",
   "execution_count": null,
   "metadata": {
    "id": "UnB7O_bQXI25"
   },
   "outputs": [],
   "source": [
    "# -*- coding: utf-8 -*-\n",
    "\"\"\"\n",
    "Created on Sat Sep 12 11:28:25 2020\n",
    "\n",
    "@author: Admin\n",
    "\"\"\"\n",
    "import numpy as np\n",
    "import matplotlib.pyplot as plt\n",
    "\n",
    "class LinearRegresstion:\n",
    "    \"\"\"\n",
    "        propety: \n",
    "            path: path of file contain data\n",
    "            rate: leanring rate\n",
    "            epochs = 100: Number of loop\n",
    "            miniBatchSize = None: size of mini Data\n",
    "        method:\n",
    "            run(): run LinearRegresstion\n",
    "            showLossGraph: show graph of losses\n",
    "                \n",
    "    \"\"\"\n",
    "    \n",
    "    def __init__(self, data, rate, epochs = 100, miniBatchSize = None):\n",
    "        self.data, self.coefficient = self.getNomal(data[:].copy())\n",
    "        self.features = self.data[:, :-1]\n",
    "        self.y = self.data[:, -1:]\n",
    "        self.rate = rate\n",
    "        self.epochs = epochs\n",
    "        self.w = np.random.rand(self.features.shape[1], self.y.shape[1])\n",
    "        self.b = np.random.rand(1)\n",
    "        self.nData = self.features.shape[0]\n",
    "        self.miniBatchSize = miniBatchSize\n",
    "        self.losses = []\n",
    "\n",
    "    def getNomal(self, data):\n",
    "        maxi = np.max(data, axis = 0)\n",
    "        mini = np.min(data, axis = 0)\n",
    "        avg = np.mean(data, axis = 0)\n",
    "        return (data-avg) / (maxi-mini), (maxi, mini, avg)\n",
    "    \n",
    "    def run(self):\n",
    "        if (self.miniBatchSize == None):\n",
    "            self.miniBatchSize = self.nData\n",
    "            \n",
    "        for epoch in range(self.epochs):\n",
    "\n",
    "                iIndex = np.random.randint(0, self.nData, size=(self.miniBatchSize,))\n",
    "                xi = self.features[iIndex]\n",
    "                yi = self.y[iIndex]\n",
    "                \n",
    "                predict = self.features[iIndex].dot(self.w) + self.b\n",
    "                \n",
    "                loss = 1/2 * (predict - yi)**2\n",
    "                self.losses.append(loss.mean())\n",
    "\n",
    "                loss_grd = (predict - yi)/self.miniBatchSize\n",
    "                self.w -= self.rate * xi.T.dot(loss_grd)\n",
    "                self.b -= self.rate * np.sum(loss_grd)\n",
    "                \n",
    "    def showLossGraph(self):\n",
    "        plt.plot(self.losses, 'r')\n",
    "        plt.show()\n",
    "\n",
    "def loadFile(path):\n",
    "    return np.genfromtxt(path, delimiter=',', skip_header=1)\n"
   ]
  },
  {
   "cell_type": "markdown",
   "metadata": {
    "id": "F1qXw514-Wb7"
   },
   "source": [
    "#### **Dataset**: [Here](https://drive.google.com/drive/folders/1y8eOn4c5rwhCQWREyuktnaINfIIvah4m?usp=sharing)\n"
   ]
  },
  {
   "cell_type": "markdown",
   "metadata": {
    "id": "zx8TyavH9tVa"
   },
   "source": [
    "#### **a) BostonHousing**"
   ]
  },
  {
   "cell_type": "code",
   "execution_count": null,
   "metadata": {
    "colab": {
     "base_uri": "https://localhost:8080/",
     "height": 265
    },
    "id": "zbbhEX1RX19m",
    "outputId": "671e9100-342d-4352-a15d-126d89ff1729"
   },
   "outputs": [
    {
     "data": {
      "image/png": "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\n",
      "text/plain": [
       "<Figure size 432x288 with 1 Axes>"
      ]
     },
     "metadata": {
      "needs_background": "light",
      "tags": []
     },
     "output_type": "display_data"
    }
   ],
   "source": [
    "data = loadFile(\"/content/drive/My Drive/Colab Notebooks/AI_Zumpzero_lv1/dataset/linearRegresstion/BostonHousing.csv\")\n",
    "myObject = LinearRegresstion(data, 1.5, epochs = 100, miniBatchSize = 64)\n",
    "myObject.run()\n",
    "myObject.showLossGraph()"
   ]
  },
  {
   "cell_type": "markdown",
   "metadata": {
    "id": "hZgsEbmx938C"
   },
   "source": [
    "#### **b) Advertising**"
   ]
  },
  {
   "cell_type": "code",
   "execution_count": null,
   "metadata": {
    "colab": {
     "base_uri": "https://localhost:8080/",
     "height": 265
    },
    "id": "0-5uc5-3arYA",
    "outputId": "e9b49c43-84dc-42b2-9576-b921b9ad1ba7"
   },
   "outputs": [
    {
     "data": {
      "image/png": "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\n",
      "text/plain": [
       "<Figure size 432x288 with 1 Axes>"
      ]
     },
     "metadata": {
      "needs_background": "light",
      "tags": []
     },
     "output_type": "display_data"
    }
   ],
   "source": [
    "data = loadFile(\"/content/drive/My Drive/Colab Notebooks/AI_Zumpzero_lv1/dataset/linearRegresstion/advertising.csv\")\n",
    "myObject = LinearRegresstion(data, 1.5, epochs = 100, miniBatchSize = 64)\n",
    "myObject.run()\n",
    "myObject.showLossGraph()"
   ]
  },
  {
   "cell_type": "markdown",
   "metadata": {
    "id": "pZwwPWsz9zv7"
   },
   "source": [
    "#### **c) Giá nhà**"
   ]
  },
  {
   "cell_type": "code",
   "execution_count": null,
   "metadata": {
    "colab": {
     "base_uri": "https://localhost:8080/",
     "height": 265
    },
    "id": "eDGxEZYYauDw",
    "outputId": "19d849a3-8100-4c80-aa68-628e976c921b"
   },
   "outputs": [
    {
     "data": {
      "image/png": "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\n",
      "text/plain": [
       "<Figure size 432x288 with 1 Axes>"
      ]
     },
     "metadata": {
      "needs_background": "light",
      "tags": []
     },
     "output_type": "display_data"
    }
   ],
   "source": [
    "data = loadFile(\"/content/drive/My Drive/Colab Notebooks/AI_Zumpzero_lv1/dataset/linearRegresstion/pricebyarea.csv\")\n",
    "myObject = LinearRegresstion(data, 1.5, epochs = 100, miniBatchSize = 64)\n",
    "myObject.run()\n",
    "myObject.showLossGraph()"
   ]
  }
 ],
 "metadata": {
  "colab": {
   "collapsed_sections": [],
   "name": "6_ComputationalGraph&LinearRegression.ipynb",
   "provenance": []
  },
  "kernelspec": {
   "display_name": "Python 3",
   "language": "python",
   "name": "python3"
  },
  "language_info": {
   "codemirror_mode": {
    "name": "ipython",
    "version": 3
   },
   "file_extension": ".py",
   "mimetype": "text/x-python",
   "name": "python",
   "nbconvert_exporter": "python",
   "pygments_lexer": "ipython3",
   "version": "3.8.3"
  }
 },
 "nbformat": 4,
 "nbformat_minor": 1
}
